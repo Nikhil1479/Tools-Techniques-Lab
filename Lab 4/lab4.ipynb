{
 "cells": [
  {
   "attachments": {},
   "cell_type": "markdown",
   "metadata": {},
   "source": [
    "### Ques 1\n",
    "WAP to demonstrate string insertion into print statement using placeholder (% operator) with 5\n",
    "print statements. \n",
    "* Without using variables by passing the string directly\n",
    "* Using a variable\n",
    "* Using multiple variables\n",
    "* Printing the strings in their string representation. \n",
    "* Demonstrate the use of \\t operator with %s and %r modulo operators"
   ]
  },
  {
   "cell_type": "code",
   "execution_count": 13,
   "metadata": {},
   "outputs": [
    {
     "name": "stdout",
     "output_type": "stream",
     "text": [
      "My name is Nikhil\n"
     ]
    }
   ],
   "source": [
    "print(\"My name is %s\" %'Nikhil')"
   ]
  },
  {
   "cell_type": "code",
   "execution_count": 14,
   "metadata": {},
   "outputs": [
    {
     "name": "stdout",
     "output_type": "stream",
     "text": [
      "My name is Nikhil\n"
     ]
    }
   ],
   "source": [
    "name = 'Nikhil'\n",
    "print(\"My name is %s\"%name)"
   ]
  },
  {
   "cell_type": "code",
   "execution_count": 15,
   "metadata": {},
   "outputs": [
    {
     "name": "stdout",
     "output_type": "stream",
     "text": [
      "My name is nikhil gupta\n"
     ]
    }
   ],
   "source": [
    "fname = 'nikhil'\n",
    "lname = 'gupta'\n",
    "\n",
    "print(\"My name is %s %s\"%(fname, lname))"
   ]
  },
  {
   "cell_type": "code",
   "execution_count": 16,
   "metadata": {},
   "outputs": [
    {
     "name": "stdout",
     "output_type": "stream",
     "text": [
      "My name is 'Nikhil'\n"
     ]
    }
   ],
   "source": [
    "print(\"My name is %r\"%\"Nikhil\")"
   ]
  },
  {
   "cell_type": "code",
   "execution_count": 19,
   "metadata": {},
   "outputs": [
    {
     "name": "stdout",
     "output_type": "stream",
     "text": [
      "My name is Nikhil\tGupta\n",
      "My name is 'Nikhil\\tGupta'\n"
     ]
    }
   ],
   "source": [
    "print(\"My name is %s\"%('Nikhil\\tGupta'))\n",
    "print(\"My name is %r\"%('Nikhil\\tGupta'))"
   ]
  },
  {
   "attachments": {},
   "cell_type": "markdown",
   "metadata": {},
   "source": [
    "### Ques 2\n",
    "WAP to demonstrate string insertion into print statement using .format() with 3 print statements. \n",
    "* Printing strings normally using .format()\n",
    "* Printing strings by their index position\n",
    "* Printing strings by their keywords\n",
    "* Build a table as follows using appropriate alignment symbols\n",
    "```\n",
    "Object | Type    | Quantity\n",
    "Apples | Fruit   | 6\n",
    "Roses  | Flowers | 10\n",
    "Chairs | Wood    | 20\n",
    "```\n",
    "All strings in above table are center aligned and numbers "
   ]
  },
  {
   "attachments": {},
   "cell_type": "markdown",
   "metadata": {},
   "source": [
    "* Printing strings normally using .format()"
   ]
  },
  {
   "cell_type": "code",
   "execution_count": 21,
   "metadata": {},
   "outputs": [
    {
     "name": "stdout",
     "output_type": "stream",
     "text": [
      "My name is Nikhil\n"
     ]
    }
   ],
   "source": [
    "print(\"My name is {}\".format(\"Nikhil\"))"
   ]
  },
  {
   "attachments": {},
   "cell_type": "markdown",
   "metadata": {},
   "source": [
    "* Printing strings by their index position"
   ]
  },
  {
   "cell_type": "code",
   "execution_count": 27,
   "metadata": {},
   "outputs": [
    {
     "name": "stdout",
     "output_type": "stream",
     "text": [
      "My name is nikhil gupta, Roll No: 20051523\n"
     ]
    }
   ],
   "source": [
    "print(\"My name is {0} {1}, Roll No: {2}\".format('nikhil', 'gupta', 20051523))"
   ]
  },
  {
   "attachments": {},
   "cell_type": "markdown",
   "metadata": {},
   "source": [
    "* Printing strings by their keywords"
   ]
  },
  {
   "cell_type": "code",
   "execution_count": 28,
   "metadata": {},
   "outputs": [
    {
     "name": "stdout",
     "output_type": "stream",
     "text": [
      "My name is Nikhil Gupta, Roll No. 20051523\n"
     ]
    }
   ],
   "source": [
    "print(\"My name is {fname} {lname}, Roll No. {rollNo}\".format(fname = 'Nikhil', lname = 'Gupta', rollNo =20051523))"
   ]
  },
  {
   "attachments": {},
   "cell_type": "markdown",
   "metadata": {},
   "source": [
    "Build a table as follows using appropriate alignment symbols\n",
    "```\n",
    "Object | Type    | Quantity\n",
    "Apples | Fruit   | 6\n",
    "Roses  | Flowers | 10\n",
    "Chairs | Wood    | 20\n",
    "```\n",
    "All strings in above table are center aligned and numbers are left aligned"
   ]
  },
  {
   "cell_type": "code",
   "execution_count": 41,
   "metadata": {},
   "outputs": [
    {
     "name": "stdout",
     "output_type": "stream",
     "text": [
      " Object  |    Type    |  Quantity \n",
      "----------------------------------\n",
      " Apples  |   Fruits   |     6     \n",
      " Roses   |  Flowers   |     10    \n",
      " Chairs  |    Wood    |     20    \n"
     ]
    }
   ],
   "source": [
    "print(\"{0:^8} | {1:^10} | {2:^10}\".format(\"Object\", \"Type\", \"Quantity\"))\n",
    "print(\"----------------------------------\")\n",
    "print(\"{0:^8} | {1:^10} | {2:^10}\".format(\"Apples\", \"Fruits\", '6'))\n",
    "print(\"{0:^8} | {1:^10} | {2:^10}\".format(\"Roses\", \"Flowers\", '10'))\n",
    "print(\"{0:^8} | {1:^10} | {2:^10}\".format(\"Chairs\", \"Wood\", '20'))"
   ]
  },
  {
   "attachments": {},
   "cell_type": "markdown",
   "metadata": {},
   "source": [
    "### Ques 3\n",
    "Take a floating point number as input from user and demonstrate the various combinations of field\n",
    "width (minimum number of characters) and significant digits using all 3 formatting techniques with 3\n",
    "examples of each."
   ]
  },
  {
   "cell_type": "code",
   "execution_count": 43,
   "metadata": {},
   "outputs": [
    {
     "name": "stdout",
     "output_type": "stream",
     "text": [
      " Using Modulus Operator :  1.3000000\n",
      " Using .format :  1.3000000\n",
      " Using f-Strings : 1.3000000\n"
     ]
    }
   ],
   "source": [
    "num =float(input(\" Enter a Floating Number : \"))\n",
    "print(\" Using Modulus Operator : %10.7f\"%num)\n",
    "print(\" Using .format : {0:10.7f}\".format(num))\n",
    "print(f\" Using f-Strings : {num:0.7f}\")"
   ]
  }
 ],
 "metadata": {
  "kernelspec": {
   "display_name": "Python 3",
   "language": "python",
   "name": "python3"
  },
  "language_info": {
   "codemirror_mode": {
    "name": "ipython",
    "version": 3
   },
   "file_extension": ".py",
   "mimetype": "text/x-python",
   "name": "python",
   "nbconvert_exporter": "python",
   "pygments_lexer": "ipython3",
   "version": "3.10.9"
  },
  "orig_nbformat": 4,
  "vscode": {
   "interpreter": {
    "hash": "c4e6b83cdc9c4c3fc4382c7d557d28e626855145234a06470216b246240e7bdc"
   }
  }
 },
 "nbformat": 4,
 "nbformat_minor": 2
}
