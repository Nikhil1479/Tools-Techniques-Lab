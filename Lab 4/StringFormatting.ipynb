{
 "cells": [
  {
   "attachments": {},
   "cell_type": "markdown",
   "metadata": {},
   "source": [
    "## String Formatting\n",
    "It allows us to insert a string into a print statement\n",
    "* involves placeholders using % operator\n",
    "* using format()\n",
    "* using fstrings"
   ]
  },
  {
   "attachments": {},
   "cell_type": "markdown",
   "metadata": {},
   "source": [
    "### 1. Using `%` (modulo)"
   ]
  },
  {
   "cell_type": "code",
   "execution_count": 9,
   "metadata": {},
   "outputs": [
    {
     "name": "stdout",
     "output_type": "stream",
     "text": [
      "apple are 'red'\n",
      "apple are 'red'\n"
     ]
    }
   ],
   "source": [
    "print(\"apple are %r\" %\"red\")\n",
    "print(\"apple are %s\" %\"'red'\")"
   ]
  },
  {
   "cell_type": "code",
   "execution_count": 12,
   "metadata": {},
   "outputs": [
    {
     "name": "stdout",
     "output_type": "stream",
     "text": [
      "apples are red\n"
     ]
    }
   ],
   "source": [
    "col = 'red'\n",
    "print(\"apples are %s\"%col)"
   ]
  },
  {
   "cell_type": "code",
   "execution_count": 18,
   "metadata": {},
   "outputs": [
    {
     "name": "stdout",
     "output_type": "stream",
     "text": [
      "apples are red and oranges are orange\n"
     ]
    }
   ],
   "source": [
    "col1,col2=\"red\",\"orange\"\n",
    "print(\"apples are %s and oranges are %s\"%(col1,col2))"
   ]
  },
  {
   "attachments": {},
   "cell_type": "markdown",
   "metadata": {},
   "source": [
    "### Using floating point numbers"
   ]
  },
  {
   "cell_type": "code",
   "execution_count": 20,
   "metadata": {},
   "outputs": [
    {
     "name": "stdout",
     "output_type": "stream",
     "text": [
      "I bought 3.5 kg of rice\n"
     ]
    }
   ],
   "source": [
    "print(\"I bought %s kg of rice\" %3.5)\n",
    "# In this '3.5' will be considered as string. "
   ]
  },
  {
   "cell_type": "code",
   "execution_count": 24,
   "metadata": {},
   "outputs": [
    {
     "name": "stdout",
     "output_type": "stream",
     "text": [
      "I bought 3 kg of rice\n"
     ]
    }
   ],
   "source": [
    "print(\"I bought %d kg of rice\" %3.5)\n",
    "# In this '3.5' will be considered as integer."
   ]
  },
  {
   "cell_type": "code",
   "execution_count": 27,
   "metadata": {},
   "outputs": [
    {
     "name": "stdout",
     "output_type": "stream",
     "text": [
      "Num is 5.37\n",
      "Num is  5.3670\n"
     ]
    }
   ],
   "source": [
    "x = 5.367\n",
    "\n",
    "print(\"Num is %3.2f\" %x)\n",
    "print(\"Num is %7.4f\" %x)"
   ]
  },
  {
   "attachments": {},
   "cell_type": "markdown",
   "metadata": {},
   "source": [
    "### 2. Using `.format()` function"
   ]
  },
  {
   "cell_type": "code",
   "execution_count": 31,
   "metadata": {},
   "outputs": [
    {
     "name": "stdout",
     "output_type": "stream",
     "text": [
      "Student1 is Nikhil. Student2 is Mehta and Student3 is Sachin\n"
     ]
    }
   ],
   "source": [
    "print(\"Student1 is {2}. Student2 is {1} and Student3 is {0}\".format('Sachin','Mehta','Nikhil'))"
   ]
  },
  {
   "cell_type": "code",
   "execution_count": 41,
   "metadata": {},
   "outputs": [
    {
     "name": "stdout",
     "output_type": "stream",
     "text": [
      "Apples are red and oranges are red\n"
     ]
    }
   ],
   "source": [
    "print(\"Apples are {} and oranges are {}\".format(\"red\"))"
   ]
  },
  {
   "attachments": {},
   "cell_type": "markdown",
   "metadata": {},
   "source": [
    "#### Applying Indentation using `.format()` "
   ]
  },
  {
   "cell_type": "code",
   "execution_count": 44,
   "metadata": {},
   "outputs": [
    {
     "name": "stdout",
     "output_type": "stream",
     "text": [
      "Fruits   | Quantity \n"
     ]
    }
   ],
   "source": [
    "x = 5.8674\n",
    "\n",
    "print(\"{0:8} | {1:9}\".format(\"Fruits\", \"Quantity\"))"
   ]
  },
  {
   "cell_type": "code",
   "execution_count": 58,
   "metadata": {},
   "outputs": [
    {
     "name": "stdout",
     "output_type": "stream",
     "text": [
      "Fruits   |  5.689343\n"
     ]
    }
   ],
   "source": [
    "print(\"{0:8} | {1:9}\".format(\"Fruits\", 5.689343))"
   ]
  },
  {
   "cell_type": "code",
   "execution_count": 55,
   "metadata": {},
   "outputs": [
    {
     "name": "stdout",
     "output_type": "stream",
     "text": [
      "Num is 5.86730\n",
      "Num is 5.8673\n"
     ]
    }
   ],
   "source": [
    "x=5.8673\n",
    "print(\"Num is %0.5f\"%x)\n",
    "print(\"Num is {0:5}\".format(x))"
   ]
  },
  {
   "attachments": {},
   "cell_type": "markdown",
   "metadata": {},
   "source": [
    "### Using `f-Strings`"
   ]
  },
  {
   "cell_type": "code",
   "execution_count": 66,
   "metadata": {},
   "outputs": [
    {
     "name": "stdout",
     "output_type": "stream",
     "text": [
      "Name is Nikhil\n"
     ]
    },
    {
     "ename": "ValueError",
     "evalue": "Invalid format specifier",
     "output_type": "error",
     "traceback": [
      "\u001b[1;31m---------------------------------------------------------------------------\u001b[0m",
      "\u001b[1;31mValueError\u001b[0m                                Traceback (most recent call last)",
      "Cell \u001b[1;32mIn [66], line 4\u001b[0m\n\u001b[0;32m      2\u001b[0m \u001b[39mprint\u001b[39m(\u001b[39mf\u001b[39m\u001b[39m\"\u001b[39m\u001b[39mName is \u001b[39m\u001b[39m{\u001b[39;00mname\u001b[39m}\u001b[39;00m\u001b[39m\"\u001b[39m)\n\u001b[0;32m      3\u001b[0m x\u001b[39m=\u001b[39m\u001b[39m5.8674\u001b[39m\n\u001b[1;32m----> 4\u001b[0m \u001b[39mprint\u001b[39m(\u001b[39mf\u001b[39m\u001b[39m\"\u001b[39m\u001b[39mNums is \u001b[39m\u001b[39m{\u001b[39;00mx\u001b[39m:\u001b[39;00m\u001b[39m{\u001b[39;00m\u001b[39m10\u001b[39m\u001b[39m}\u001b[39;00m\u001b[39m:\u001b[39m\u001b[39m{\u001b[39;00m\u001b[39m5\u001b[39m\u001b[39m}\u001b[39;00m\u001b[39m}\u001b[39;00m\u001b[39m\"\u001b[39m)\n",
      "\u001b[1;31mValueError\u001b[0m: Invalid format specifier"
     ]
    }
   ],
   "source": [
    "name = 'Nikhil'\n",
    "print(f\"Name is {name}\")\n",
    "x=5.8674\n",
    "print(f\"Nums is {x:{10}:{5}}\")"
   ]
  }
 ],
 "metadata": {
  "kernelspec": {
   "display_name": "Python 3",
   "language": "python",
   "name": "python3"
  },
  "language_info": {
   "codemirror_mode": {
    "name": "ipython",
    "version": 3
   },
   "file_extension": ".py",
   "mimetype": "text/x-python",
   "name": "python",
   "nbconvert_exporter": "python",
   "pygments_lexer": "ipython3",
   "version": "3.10.9 (tags/v3.10.9:1dd9be6, Dec  6 2022, 20:01:21) [MSC v.1934 64 bit (AMD64)]"
  },
  "orig_nbformat": 4,
  "vscode": {
   "interpreter": {
    "hash": "c4e6b83cdc9c4c3fc4382c7d557d28e626855145234a06470216b246240e7bdc"
   }
  }
 },
 "nbformat": 4,
 "nbformat_minor": 2
}
