{
 "cells": [
  {
   "attachments": {},
   "cell_type": "markdown",
   "metadata": {},
   "source": [
    "### Ques 1\n",
    "WAP to create a list if 'n' elements and find length of the list using len() function"
   ]
  },
  {
   "cell_type": "code",
   "execution_count": 1,
   "metadata": {},
   "outputs": [
    {
     "name": "stdout",
     "output_type": "stream",
     "text": [
      "Length of list: 4\n"
     ]
    }
   ],
   "source": [
    "list = [1,'apple','banana','strawberry']\n",
    "print(f\"Length of list: {len(list)}\")"
   ]
  },
  {
   "attachments": {},
   "cell_type": "markdown",
   "metadata": {},
   "source": [
    "### Ques 2\n",
    "WAP to create a list of 5 elements of different types to demonstrate 10 slicing operations."
   ]
  },
  {
   "cell_type": "code",
   "execution_count": 1,
   "metadata": {},
   "outputs": [
    {
     "name": "stdout",
     "output_type": "stream",
     "text": [
      "['apple', 2, 'banana', 3]\n",
      "[['appleJuice', 'bananaShake'], 3, 'banana', 2, 'apple', 1]\n",
      "['apple', 'banana']\n",
      "['apple']\n",
      "['apple', 2, 'banana', 3, ['appleJuice', 'bananaShake']]\n",
      "[1, 'apple', 2, 'banana', 3, ['appleJuice', 'bananaShake']]\n",
      "['appleJuice', 'bananaShake']\n",
      "[2, 'banana', 3, ['appleJuice', 'bananaShake']]\n",
      "[['appleJuice', 'bananaShake'], 3, 'banana']\n"
     ]
    }
   ],
   "source": [
    "list = [1,'apple',2,'banana',3,['appleJuice','bananaShake']]\n",
    "\n",
    "print(list[1:5])\n",
    "print(list[::-1])\n",
    "print(list[1:5:2])\n",
    "print(list[1:2:3])\n",
    "print(list[1:])\n",
    "print(list[:])\n",
    "print(list[-1])\n",
    "print(list[2:])\n",
    "print(list[5:2:-1])"
   ]
  },
  {
   "attachments": {},
   "cell_type": "markdown",
   "metadata": {},
   "source": [
    "### Ques 3\n",
    "WAP to create a list of 5 elements and print it with your first name appended to it without making any changes in the original list."
   ]
  },
  {
   "cell_type": "code",
   "execution_count": 25,
   "metadata": {},
   "outputs": [
    {
     "name": "stdout",
     "output_type": "stream",
     "text": [
      "['Nikhil', 'apple', 'oranges', 'banana']\n"
     ]
    }
   ],
   "source": [
    "fruits = ['apple','oranges','banana']\n",
    "\n",
    "print(['Nikhil'] + fruits)"
   ]
  },
  {
   "attachments": {},
   "cell_type": "markdown",
   "metadata": {},
   "source": [
    "### Ques 4\n",
    "WAP to create a list of 5 elements and add your name to the list permanently and print it."
   ]
  },
  {
   "cell_type": "code",
   "execution_count": 27,
   "metadata": {},
   "outputs": [
    {
     "data": {
      "text/plain": [
       "['bmw', 'nissan', 'honda', 'hyundai', 'Mercedes']"
      ]
     },
     "execution_count": 27,
     "metadata": {},
     "output_type": "execute_result"
    }
   ],
   "source": [
    "cars = ['bmw','nissan','honda','hyundai']\n",
    "cars.append('Mercedes')\n",
    "cars"
   ]
  },
  {
   "attachments": {},
   "cell_type": "markdown",
   "metadata": {},
   "source": [
    "### Ques 5\n",
    "WAP to create a list of 5 elements and modify any 2 elements in the list."
   ]
  },
  {
   "cell_type": "code",
   "execution_count": 3,
   "metadata": {},
   "outputs": [
    {
     "data": {
      "text/plain": [
       "['Manas', 'Gupta', 22051523, 'CSE-11', 'Python']"
      ]
     },
     "execution_count": 3,
     "metadata": {},
     "output_type": "execute_result"
    }
   ],
   "source": [
    "list = ['Nikhil','Gupta',20051523, 'CSE-11','Python']\n",
    "\n",
    "list[0] = 'Manas'\n",
    "list[2] = 22051523\n",
    "list"
   ]
  },
  {
   "attachments": {},
   "cell_type": "markdown",
   "metadata": {},
   "source": [
    "### Ques 6\n",
    "WAP to create a list of elements and perform sort and reverse on it."
   ]
  },
  {
   "cell_type": "code",
   "execution_count": 6,
   "metadata": {},
   "outputs": [
    {
     "name": "stdout",
     "output_type": "stream",
     "text": [
      "[49, 56, 65, 69, 86, 90, 98]\n",
      "[98, 90, 86, 69, 65, 56, 49]\n"
     ]
    }
   ],
   "source": [
    "list = [90, 86, 98, 49, 56, 65, 69]\n",
    "\n",
    "list.sort()\n",
    "print(list)\n",
    "list.reverse()\n",
    "print(list)"
   ]
  },
  {
   "attachments": {},
   "cell_type": "markdown",
   "metadata": {},
   "source": [
    "### Ques 7\n",
    "WAP to create a list of elements and perform pop operation using default pop() and pop() with a given index taken from user."
   ]
  },
  {
   "cell_type": "code",
   "execution_count": 2,
   "metadata": {},
   "outputs": [
    {
     "data": {
      "text/plain": [
       "['Apple', 'Banana']"
      ]
     },
     "execution_count": 2,
     "metadata": {},
     "output_type": "execute_result"
    }
   ],
   "source": [
    "list = ['Apple', 'Mango', 'Banana', 'Cherry']\n",
    "list.pop()\n",
    "list.pop(1)\n",
    "list"
   ]
  },
  {
   "attachments": {},
   "cell_type": "markdown",
   "metadata": {},
   "source": [
    "### Ques 8\n",
    "WAP to create a 3x3 matrix comprising elements of different data types."
   ]
  },
  {
   "cell_type": "code",
   "execution_count": 11,
   "metadata": {},
   "outputs": [
    {
     "name": "stdout",
     "output_type": "stream",
     "text": [
      "[[1, 2, 3], ['a', 'b', 'c'], [True, False, True]]\n"
     ]
    }
   ],
   "source": [
    "list1 = [1,2,3]\n",
    "list2 = ['a','b','c']\n",
    "list3 = [True, False, True]\n",
    "\n",
    "matrix = [list1, list2, list3]\n",
    "\n",
    "print(matrix)"
   ]
  }
 ],
 "metadata": {
  "kernelspec": {
   "display_name": "Python 3",
   "language": "python",
   "name": "python3"
  },
  "language_info": {
   "codemirror_mode": {
    "name": "ipython",
    "version": 3
   },
   "file_extension": ".py",
   "mimetype": "text/x-python",
   "name": "python",
   "nbconvert_exporter": "python",
   "pygments_lexer": "ipython3",
   "version": "3.10.9 (tags/v3.10.9:1dd9be6, Dec  6 2022, 20:01:21) [MSC v.1934 64 bit (AMD64)]"
  },
  "orig_nbformat": 4,
  "vscode": {
   "interpreter": {
    "hash": "c4e6b83cdc9c4c3fc4382c7d557d28e626855145234a06470216b246240e7bdc"
   }
  }
 },
 "nbformat": 4,
 "nbformat_minor": 2
}
