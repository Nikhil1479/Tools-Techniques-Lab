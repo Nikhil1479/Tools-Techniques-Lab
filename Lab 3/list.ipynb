{
 "cells": [
  {
   "attachments": {},
   "cell_type": "markdown",
   "metadata": {},
   "source": [
    "## List in Python\n",
    "* It is a data structure in python used to store elements of different datatypes\n",
    "* Lists are mutable."
   ]
  },
  {
   "cell_type": "code",
   "execution_count": 6,
   "metadata": {},
   "outputs": [
    {
     "data": {
      "text/plain": [
       "2"
      ]
     },
     "execution_count": 6,
     "metadata": {},
     "output_type": "execute_result"
    }
   ],
   "source": [
    "#A basic list\n",
    "list1 = [1,2,3] \n",
    "list1[1]"
   ]
  },
  {
   "cell_type": "code",
   "execution_count": 27,
   "metadata": {},
   "outputs": [
    {
     "name": "stdout",
     "output_type": "stream",
     "text": [
      "['orange', [5, 6, 12], 'dog', [1, 2], 'd', 'apple', 5, 11]\n",
      "[1, 2]\n"
     ]
    }
   ],
   "source": [
    "list2 = [11,5,'apple','d',[1,2],'dog',[5,6,12]]\n",
    "\n",
    "#Extracting 'o' from 'dog'\n",
    "list2[5][1]\n",
    "\n",
    "#indexing in ranges \n",
    "list2[1:5] #It will go upto index 1 to (5-1)\n",
    "\n",
    "#Adding items to list\n",
    "list2.append('orange')\n",
    "\n",
    "list2 * 3\n",
    "\n",
    "# Reverse a list\n",
    "list2[::-1]\n",
    "\n",
    "# Using reverse method in list\n",
    "list2.reverse()\n",
    "print(list2)\n",
    "\n",
    "#Sorting in List\n",
    "list3 = [1,5,8,9,10,34,56]\n",
    "list3.sort()\n",
    "list3\n",
    "\n",
    "#Deleting an element from list\n",
    "delete = list2.pop(3) # It removes and return the element\n",
    "print(delete)"
   ]
  },
  {
   "attachments": {},
   "cell_type": "markdown",
   "metadata": {},
   "source": [
    "l1=[1,2,3,,4,5]\n",
    "l1+[\"orange\"]\n",
    "print(l1)"
   ]
  },
  {
   "cell_type": "code",
   "execution_count": 30,
   "metadata": {},
   "outputs": [
    {
     "data": {
      "text/plain": [
       "[1, 2, 3, 4, 5, 'apple', 'orange']"
      ]
     },
     "execution_count": 30,
     "metadata": {},
     "output_type": "execute_result"
    }
   ],
   "source": [
    "l1=[1,2,3,4,5,'apple']\n",
    "l1+ [\"orange\"]"
   ]
  },
  {
   "attachments": {},
   "cell_type": "markdown",
   "metadata": {},
   "source": [
    "### Multidimensional List "
   ]
  },
  {
   "cell_type": "code",
   "execution_count": 26,
   "metadata": {},
   "outputs": [
    {
     "data": {
      "text/plain": [
       "6"
      ]
     },
     "execution_count": 26,
     "metadata": {},
     "output_type": "execute_result"
    }
   ],
   "source": [
    "list2D = [[1,2,3],\n",
    "          [4,5,6],\n",
    "          [7,8,9]]\n",
    "\n",
    "list2D[1][2]"
   ]
  }
 ],
 "metadata": {
  "kernelspec": {
   "display_name": "Python 3",
   "language": "python",
   "name": "python3"
  },
  "language_info": {
   "codemirror_mode": {
    "name": "ipython",
    "version": 3
   },
   "file_extension": ".py",
   "mimetype": "text/x-python",
   "name": "python",
   "nbconvert_exporter": "python",
   "pygments_lexer": "ipython3",
   "version": "3.10.9 (tags/v3.10.9:1dd9be6, Dec  6 2022, 20:01:21) [MSC v.1934 64 bit (AMD64)]"
  },
  "orig_nbformat": 4,
  "vscode": {
   "interpreter": {
    "hash": "c4e6b83cdc9c4c3fc4382c7d557d28e626855145234a06470216b246240e7bdc"
   }
  }
 },
 "nbformat": 4,
 "nbformat_minor": 2
}
